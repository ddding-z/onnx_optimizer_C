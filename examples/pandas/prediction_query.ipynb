{
 "cells": [
  {
   "cell_type": "code",
   "execution_count": 1,
   "outputs": [],
   "source": [
    "import numpy as np\n",
    "import pandas as pd\n",
    "from onnxconverter_common import FloatTensorType\n",
    "from skl2onnx.common.data_types import Int64TensorType, DoubleTensorType, StringTensorType\n",
    "import sklearn\n",
    "from sklearn.compose import ColumnTransformer\n",
    "from sklearn.linear_model import LogisticRegression\n",
    "from sklearn.pipeline import Pipeline, make_pipeline\n",
    "from sklearn.preprocessing import OneHotEncoder\n",
    "from sklearn.preprocessing import StandardScaler\n",
    "import matplotlib.pyplot as plt\n",
    "\n",
    "sklearn.set_config(display='diagram')\n",
    "\n",
    "# 表路径\n",
    "path1 = \"/home/uw1/snippets/py_onnx/expedia/data/S_listings.csv\"\n",
    "path2 = \"/home/uw1/snippets/py_onnx/expedia/data/R1_hotels.csv\"\n",
    "path3 = \"/home/uw1/snippets/py_onnx/expedia/data/R2_searches.csv\"\n",
    "# 读取csv表\n",
    "S_listings = pd.read_csv(path1)\n",
    "R1_hotels = pd.read_csv(path2)\n",
    "R2_searches = pd.read_csv(path3)\n",
    "# 连接3张表\n",
    "data = pd.merge(pd.merge(S_listings, R1_hotels, how='inner'), R2_searches, how='inner')\n",
    "# print(data.isnull().any())    #检测缺失值\n",
    "data.dropna(inplace=True)  # 删除NaN\n",
    "\n",
    "# 获取分类label\n",
    "y = np.array(data.loc[:, 'promotion_flag'])\n",
    "# 8 numerical, 20 categorical\n",
    "numerical_columns = ['prop_location_score1', 'prop_location_score2', 'prop_log_historical_price', 'price_usd',\n",
    "                     'orig_destination_distance', 'prop_review_score', 'avg_bookings_usd', 'stdev_bookings_usd']\n",
    "categorical_columns = ['position', 'prop_country_id', 'prop_starrating', 'prop_brand_bool', 'count_clicks',\n",
    "                       'count_bookings', 'year', 'month', 'weekofyear', 'time', 'site_id',\n",
    "                       'visitor_location_country_id',\n",
    "                       'srch_destination_id', 'srch_length_of_stay', 'srch_booking_window',\n",
    "                       'srch_adults_count',\n",
    "                       'srch_children_count', 'srch_room_count', 'srch_saturday_night_bool',\n",
    "                       'random_bool']\n",
    "\n",
    "X = data.loc[:, numerical_columns+categorical_columns]\n",
    "\n",
    "input_columns = numerical_columns + categorical_columns\n",
    "\n",
    "type_map = {\n",
    "    \"int64\": Int64TensorType([None, 1]),\n",
    "    \"float64\": FloatTensorType([None, 1]),\n",
    "    \"object\": StringTensorType([None, 1]),\n",
    "}\n",
    "\n",
    "\n",
    "init_types = [(elem, type_map[data[elem].dtype.name]) for elem in input_columns]"
   ],
   "metadata": {
    "collapsed": false,
    "ExecuteTime": {
     "end_time": "2023-09-14T14:20:56.293096349Z",
     "start_time": "2023-09-14T14:20:52.905516721Z"
    }
   },
   "id": "initial_id"
  },
  {
   "cell_type": "code",
   "execution_count": 2,
   "id": "d4244019971a003",
   "metadata": {
    "collapsed": false,
    "ExecuteTime": {
     "end_time": "2023-09-14T14:20:56.329993615Z",
     "start_time": "2023-09-14T14:20:56.298925022Z"
    }
   },
   "outputs": [
    {
     "data": {
      "text/plain": "Pipeline(steps=[('columntransformer',\n                 ColumnTransformer(transformers=[('numerical',\n                                                  Pipeline(steps=[('scaler',\n                                                                   StandardScaler())],\n                                                           verbose=True),\n                                                  ['prop_location_score1',\n                                                   'prop_location_score2',\n                                                   'prop_log_historical_price',\n                                                   'price_usd',\n                                                   'orig_destination_distance',\n                                                   'prop_review_score',\n                                                   'avg_bookings_usd',\n                                                   'stdev_bookings_usd']),\n                                                 ('categorical',\n                                                  Pipeline(steps=[(...\n                                                   'count_clicks',\n                                                   'count_bookings', 'year',\n                                                   'month', 'weekofyear',\n                                                   'time', 'site_id',\n                                                   'visitor_location_country_id',\n                                                   'srch_destination_id',\n                                                   'srch_length_of_stay',\n                                                   'srch_booking_window',\n                                                   'srch_adults_count',\n                                                   'srch_children_count',\n                                                   'srch_room_count',\n                                                   'srch_saturday_night_bool',\n                                                   'random_bool'])],\n                                   verbose=True)),\n                ('logisticregression', LogisticRegression(solver='liblinear'))])",
      "text/html": "<style>#sk-container-id-1 {color: black;}#sk-container-id-1 pre{padding: 0;}#sk-container-id-1 div.sk-toggleable {background-color: white;}#sk-container-id-1 label.sk-toggleable__label {cursor: pointer;display: block;width: 100%;margin-bottom: 0;padding: 0.3em;box-sizing: border-box;text-align: center;}#sk-container-id-1 label.sk-toggleable__label-arrow:before {content: \"▸\";float: left;margin-right: 0.25em;color: #696969;}#sk-container-id-1 label.sk-toggleable__label-arrow:hover:before {color: black;}#sk-container-id-1 div.sk-estimator:hover label.sk-toggleable__label-arrow:before {color: black;}#sk-container-id-1 div.sk-toggleable__content {max-height: 0;max-width: 0;overflow: hidden;text-align: left;background-color: #f0f8ff;}#sk-container-id-1 div.sk-toggleable__content pre {margin: 0.2em;color: black;border-radius: 0.25em;background-color: #f0f8ff;}#sk-container-id-1 input.sk-toggleable__control:checked~div.sk-toggleable__content {max-height: 200px;max-width: 100%;overflow: auto;}#sk-container-id-1 input.sk-toggleable__control:checked~label.sk-toggleable__label-arrow:before {content: \"▾\";}#sk-container-id-1 div.sk-estimator input.sk-toggleable__control:checked~label.sk-toggleable__label {background-color: #d4ebff;}#sk-container-id-1 div.sk-label input.sk-toggleable__control:checked~label.sk-toggleable__label {background-color: #d4ebff;}#sk-container-id-1 input.sk-hidden--visually {border: 0;clip: rect(1px 1px 1px 1px);clip: rect(1px, 1px, 1px, 1px);height: 1px;margin: -1px;overflow: hidden;padding: 0;position: absolute;width: 1px;}#sk-container-id-1 div.sk-estimator {font-family: monospace;background-color: #f0f8ff;border: 1px dotted black;border-radius: 0.25em;box-sizing: border-box;margin-bottom: 0.5em;}#sk-container-id-1 div.sk-estimator:hover {background-color: #d4ebff;}#sk-container-id-1 div.sk-parallel-item::after {content: \"\";width: 100%;border-bottom: 1px solid gray;flex-grow: 1;}#sk-container-id-1 div.sk-label:hover label.sk-toggleable__label {background-color: #d4ebff;}#sk-container-id-1 div.sk-serial::before {content: \"\";position: absolute;border-left: 1px solid gray;box-sizing: border-box;top: 0;bottom: 0;left: 50%;z-index: 0;}#sk-container-id-1 div.sk-serial {display: flex;flex-direction: column;align-items: center;background-color: white;padding-right: 0.2em;padding-left: 0.2em;position: relative;}#sk-container-id-1 div.sk-item {position: relative;z-index: 1;}#sk-container-id-1 div.sk-parallel {display: flex;align-items: stretch;justify-content: center;background-color: white;position: relative;}#sk-container-id-1 div.sk-item::before, #sk-container-id-1 div.sk-parallel-item::before {content: \"\";position: absolute;border-left: 1px solid gray;box-sizing: border-box;top: 0;bottom: 0;left: 50%;z-index: -1;}#sk-container-id-1 div.sk-parallel-item {display: flex;flex-direction: column;z-index: 1;position: relative;background-color: white;}#sk-container-id-1 div.sk-parallel-item:first-child::after {align-self: flex-end;width: 50%;}#sk-container-id-1 div.sk-parallel-item:last-child::after {align-self: flex-start;width: 50%;}#sk-container-id-1 div.sk-parallel-item:only-child::after {width: 0;}#sk-container-id-1 div.sk-dashed-wrapped {border: 1px dashed gray;margin: 0 0.4em 0.5em 0.4em;box-sizing: border-box;padding-bottom: 0.4em;background-color: white;}#sk-container-id-1 div.sk-label label {font-family: monospace;font-weight: bold;display: inline-block;line-height: 1.2em;}#sk-container-id-1 div.sk-label-container {text-align: center;}#sk-container-id-1 div.sk-container {/* jupyter's `normalize.less` sets `[hidden] { display: none; }` but bootstrap.min.css set `[hidden] { display: none !important; }` so we also need the `!important` here to be able to override the default hidden behavior on the sphinx rendered scikit-learn.org. See: https://github.com/scikit-learn/scikit-learn/issues/21755 */display: inline-block !important;position: relative;}#sk-container-id-1 div.sk-text-repr-fallback {display: none;}</style><div id=\"sk-container-id-1\" class=\"sk-top-container\"><div class=\"sk-text-repr-fallback\"><pre>Pipeline(steps=[(&#x27;columntransformer&#x27;,\n                 ColumnTransformer(transformers=[(&#x27;numerical&#x27;,\n                                                  Pipeline(steps=[(&#x27;scaler&#x27;,\n                                                                   StandardScaler())],\n                                                           verbose=True),\n                                                  [&#x27;prop_location_score1&#x27;,\n                                                   &#x27;prop_location_score2&#x27;,\n                                                   &#x27;prop_log_historical_price&#x27;,\n                                                   &#x27;price_usd&#x27;,\n                                                   &#x27;orig_destination_distance&#x27;,\n                                                   &#x27;prop_review_score&#x27;,\n                                                   &#x27;avg_bookings_usd&#x27;,\n                                                   &#x27;stdev_bookings_usd&#x27;]),\n                                                 (&#x27;categorical&#x27;,\n                                                  Pipeline(steps=[(...\n                                                   &#x27;count_clicks&#x27;,\n                                                   &#x27;count_bookings&#x27;, &#x27;year&#x27;,\n                                                   &#x27;month&#x27;, &#x27;weekofyear&#x27;,\n                                                   &#x27;time&#x27;, &#x27;site_id&#x27;,\n                                                   &#x27;visitor_location_country_id&#x27;,\n                                                   &#x27;srch_destination_id&#x27;,\n                                                   &#x27;srch_length_of_stay&#x27;,\n                                                   &#x27;srch_booking_window&#x27;,\n                                                   &#x27;srch_adults_count&#x27;,\n                                                   &#x27;srch_children_count&#x27;,\n                                                   &#x27;srch_room_count&#x27;,\n                                                   &#x27;srch_saturday_night_bool&#x27;,\n                                                   &#x27;random_bool&#x27;])],\n                                   verbose=True)),\n                (&#x27;logisticregression&#x27;, LogisticRegression(solver=&#x27;liblinear&#x27;))])</pre><b>In a Jupyter environment, please rerun this cell to show the HTML representation or trust the notebook. <br />On GitHub, the HTML representation is unable to render, please try loading this page with nbviewer.org.</b></div><div class=\"sk-container\" hidden><div class=\"sk-item sk-dashed-wrapped\"><div class=\"sk-label-container\"><div class=\"sk-label sk-toggleable\"><input class=\"sk-toggleable__control sk-hidden--visually\" id=\"sk-estimator-id-1\" type=\"checkbox\" ><label for=\"sk-estimator-id-1\" class=\"sk-toggleable__label sk-toggleable__label-arrow\">Pipeline</label><div class=\"sk-toggleable__content\"><pre>Pipeline(steps=[(&#x27;columntransformer&#x27;,\n                 ColumnTransformer(transformers=[(&#x27;numerical&#x27;,\n                                                  Pipeline(steps=[(&#x27;scaler&#x27;,\n                                                                   StandardScaler())],\n                                                           verbose=True),\n                                                  [&#x27;prop_location_score1&#x27;,\n                                                   &#x27;prop_location_score2&#x27;,\n                                                   &#x27;prop_log_historical_price&#x27;,\n                                                   &#x27;price_usd&#x27;,\n                                                   &#x27;orig_destination_distance&#x27;,\n                                                   &#x27;prop_review_score&#x27;,\n                                                   &#x27;avg_bookings_usd&#x27;,\n                                                   &#x27;stdev_bookings_usd&#x27;]),\n                                                 (&#x27;categorical&#x27;,\n                                                  Pipeline(steps=[(...\n                                                   &#x27;count_clicks&#x27;,\n                                                   &#x27;count_bookings&#x27;, &#x27;year&#x27;,\n                                                   &#x27;month&#x27;, &#x27;weekofyear&#x27;,\n                                                   &#x27;time&#x27;, &#x27;site_id&#x27;,\n                                                   &#x27;visitor_location_country_id&#x27;,\n                                                   &#x27;srch_destination_id&#x27;,\n                                                   &#x27;srch_length_of_stay&#x27;,\n                                                   &#x27;srch_booking_window&#x27;,\n                                                   &#x27;srch_adults_count&#x27;,\n                                                   &#x27;srch_children_count&#x27;,\n                                                   &#x27;srch_room_count&#x27;,\n                                                   &#x27;srch_saturday_night_bool&#x27;,\n                                                   &#x27;random_bool&#x27;])],\n                                   verbose=True)),\n                (&#x27;logisticregression&#x27;, LogisticRegression(solver=&#x27;liblinear&#x27;))])</pre></div></div></div><div class=\"sk-serial\"><div class=\"sk-item sk-dashed-wrapped\"><div class=\"sk-label-container\"><div class=\"sk-label sk-toggleable\"><input class=\"sk-toggleable__control sk-hidden--visually\" id=\"sk-estimator-id-2\" type=\"checkbox\" ><label for=\"sk-estimator-id-2\" class=\"sk-toggleable__label sk-toggleable__label-arrow\">columntransformer: ColumnTransformer</label><div class=\"sk-toggleable__content\"><pre>ColumnTransformer(transformers=[(&#x27;numerical&#x27;,\n                                 Pipeline(steps=[(&#x27;scaler&#x27;, StandardScaler())],\n                                          verbose=True),\n                                 [&#x27;prop_location_score1&#x27;,\n                                  &#x27;prop_location_score2&#x27;,\n                                  &#x27;prop_log_historical_price&#x27;, &#x27;price_usd&#x27;,\n                                  &#x27;orig_destination_distance&#x27;,\n                                  &#x27;prop_review_score&#x27;, &#x27;avg_bookings_usd&#x27;,\n                                  &#x27;stdev_bookings_usd&#x27;]),\n                                (&#x27;categorical&#x27;,\n                                 Pipeline(steps=[(&#x27;onehot&#x27;, OneHotEncoder())],\n                                          verbose=Tr...\n                                 [&#x27;position&#x27;, &#x27;prop_country_id&#x27;,\n                                  &#x27;prop_starrating&#x27;, &#x27;prop_brand_bool&#x27;,\n                                  &#x27;count_clicks&#x27;, &#x27;count_bookings&#x27;, &#x27;year&#x27;,\n                                  &#x27;month&#x27;, &#x27;weekofyear&#x27;, &#x27;time&#x27;, &#x27;site_id&#x27;,\n                                  &#x27;visitor_location_country_id&#x27;,\n                                  &#x27;srch_destination_id&#x27;, &#x27;srch_length_of_stay&#x27;,\n                                  &#x27;srch_booking_window&#x27;, &#x27;srch_adults_count&#x27;,\n                                  &#x27;srch_children_count&#x27;, &#x27;srch_room_count&#x27;,\n                                  &#x27;srch_saturday_night_bool&#x27;, &#x27;random_bool&#x27;])],\n                  verbose=True)</pre></div></div></div><div class=\"sk-parallel\"><div class=\"sk-parallel-item\"><div class=\"sk-item\"><div class=\"sk-label-container\"><div class=\"sk-label sk-toggleable\"><input class=\"sk-toggleable__control sk-hidden--visually\" id=\"sk-estimator-id-3\" type=\"checkbox\" ><label for=\"sk-estimator-id-3\" class=\"sk-toggleable__label sk-toggleable__label-arrow\">numerical</label><div class=\"sk-toggleable__content\"><pre>[&#x27;prop_location_score1&#x27;, &#x27;prop_location_score2&#x27;, &#x27;prop_log_historical_price&#x27;, &#x27;price_usd&#x27;, &#x27;orig_destination_distance&#x27;, &#x27;prop_review_score&#x27;, &#x27;avg_bookings_usd&#x27;, &#x27;stdev_bookings_usd&#x27;]</pre></div></div></div><div class=\"sk-serial\"><div class=\"sk-item\"><div class=\"sk-serial\"><div class=\"sk-item\"><div class=\"sk-estimator sk-toggleable\"><input class=\"sk-toggleable__control sk-hidden--visually\" id=\"sk-estimator-id-4\" type=\"checkbox\" ><label for=\"sk-estimator-id-4\" class=\"sk-toggleable__label sk-toggleable__label-arrow\">StandardScaler</label><div class=\"sk-toggleable__content\"><pre>StandardScaler()</pre></div></div></div></div></div></div></div></div><div class=\"sk-parallel-item\"><div class=\"sk-item\"><div class=\"sk-label-container\"><div class=\"sk-label sk-toggleable\"><input class=\"sk-toggleable__control sk-hidden--visually\" id=\"sk-estimator-id-5\" type=\"checkbox\" ><label for=\"sk-estimator-id-5\" class=\"sk-toggleable__label sk-toggleable__label-arrow\">categorical</label><div class=\"sk-toggleable__content\"><pre>[&#x27;position&#x27;, &#x27;prop_country_id&#x27;, &#x27;prop_starrating&#x27;, &#x27;prop_brand_bool&#x27;, &#x27;count_clicks&#x27;, &#x27;count_bookings&#x27;, &#x27;year&#x27;, &#x27;month&#x27;, &#x27;weekofyear&#x27;, &#x27;time&#x27;, &#x27;site_id&#x27;, &#x27;visitor_location_country_id&#x27;, &#x27;srch_destination_id&#x27;, &#x27;srch_length_of_stay&#x27;, &#x27;srch_booking_window&#x27;, &#x27;srch_adults_count&#x27;, &#x27;srch_children_count&#x27;, &#x27;srch_room_count&#x27;, &#x27;srch_saturday_night_bool&#x27;, &#x27;random_bool&#x27;]</pre></div></div></div><div class=\"sk-serial\"><div class=\"sk-item\"><div class=\"sk-serial\"><div class=\"sk-item\"><div class=\"sk-estimator sk-toggleable\"><input class=\"sk-toggleable__control sk-hidden--visually\" id=\"sk-estimator-id-6\" type=\"checkbox\" ><label for=\"sk-estimator-id-6\" class=\"sk-toggleable__label sk-toggleable__label-arrow\">OneHotEncoder</label><div class=\"sk-toggleable__content\"><pre>OneHotEncoder()</pre></div></div></div></div></div></div></div></div></div></div><div class=\"sk-item\"><div class=\"sk-estimator sk-toggleable\"><input class=\"sk-toggleable__control sk-hidden--visually\" id=\"sk-estimator-id-7\" type=\"checkbox\" ><label for=\"sk-estimator-id-7\" class=\"sk-toggleable__label sk-toggleable__label-arrow\">LogisticRegression</label><div class=\"sk-toggleable__content\"><pre>LogisticRegression(solver=&#x27;liblinear&#x27;)</pre></div></div></div></div></div></div></div>"
     },
     "execution_count": 2,
     "metadata": {},
     "output_type": "execute_result"
    }
   ],
   "source": [
    "numerical_preprocessor = Pipeline(\n",
    "    steps=[\n",
    "        (\"scaler\", StandardScaler()),\n",
    "    ],\n",
    "    verbose=True\n",
    ")\n",
    "\n",
    "normal_preprocessor = Pipeline(\n",
    "    steps=[\n",
    "        (\"onehot\", OneHotEncoder()),\n",
    "    ],\n",
    "    verbose=True\n",
    ")\n",
    "\n",
    "preprocessor = ColumnTransformer(\n",
    "    [\n",
    "        (\"numerical\", numerical_preprocessor, numerical_columns),\n",
    "        (\"categorical\", normal_preprocessor, categorical_columns),\n",
    "    ],\n",
    "    verbose=True,\n",
    ")\n",
    "\n",
    "model_lr = make_pipeline(preprocessor, LogisticRegression(solver='liblinear'))\n",
    "model_lr"
   ]
  },
  {
   "cell_type": "code",
   "execution_count": 3,
   "id": "311a764b96a3110e",
   "metadata": {
    "collapsed": false,
    "ExecuteTime": {
     "end_time": "2023-09-14T14:22:39.069314907Z",
     "start_time": "2023-09-14T14:20:56.336077806Z"
    }
   },
   "outputs": [
    {
     "name": "stdout",
     "output_type": "stream",
     "text": [
      "[Pipeline] ............ (step 1 of 1) Processing scaler, total=   0.1s\n",
      "[ColumnTransformer] ..... (1 of 2) Processing numerical, total=   0.1s\n",
      "[Pipeline] ............ (step 1 of 1) Processing onehot, total=   1.5s\n",
      "[ColumnTransformer] ... (2 of 2) Processing categorical, total=   1.5s\n",
      "Training done.\n"
     ]
    }
   ],
   "source": [
    "model_lr.fit(X, y)\n",
    "\n",
    "print(\"Training done.\")"
   ]
  },
  {
   "cell_type": "code",
   "execution_count": 4,
   "id": "ab07bd706757f92b",
   "metadata": {
    "collapsed": false,
    "ExecuteTime": {
     "end_time": "2023-09-14T14:22:39.071695911Z",
     "start_time": "2023-09-14T14:22:39.069023811Z"
    }
   },
   "outputs": [
    {
     "data": {
      "text/plain": "Pipeline(steps=[('columntransformer',\n                 ColumnTransformer(transformers=[('numerical',\n                                                  Pipeline(steps=[('scaler',\n                                                                   StandardScaler())],\n                                                           verbose=True),\n                                                  ['prop_location_score1',\n                                                   'prop_location_score2',\n                                                   'prop_log_historical_price',\n                                                   'price_usd',\n                                                   'orig_destination_distance',\n                                                   'prop_review_score',\n                                                   'avg_bookings_usd',\n                                                   'stdev_bookings_usd']),\n                                                 ('categorical',\n                                                  Pipeline(steps=[(...\n                                                   'prop_starrating',\n                                                   'prop_brand_bool',\n                                                   'count_clicks',\n                                                   'count_bookings', 'year',\n                                                   'month', 'weekofyear',\n                                                   'time', 'site_id',\n                                                   'visitor_location_country_id',\n                                                   'srch_destination_id',\n                                                   'srch_length_of_stay',\n                                                   'srch_booking_window',\n                                                   'srch_adults_count',\n                                                   'srch_children_count',\n                                                   'srch_room_count',\n                                                   'srch_saturday_night_bool',\n                                                   'random_bool'])],\n                                   verbose=True)),\n                ('sgdclassifier', SGDClassifier())])",
      "text/html": "<style>#sk-container-id-2 {color: black;}#sk-container-id-2 pre{padding: 0;}#sk-container-id-2 div.sk-toggleable {background-color: white;}#sk-container-id-2 label.sk-toggleable__label {cursor: pointer;display: block;width: 100%;margin-bottom: 0;padding: 0.3em;box-sizing: border-box;text-align: center;}#sk-container-id-2 label.sk-toggleable__label-arrow:before {content: \"▸\";float: left;margin-right: 0.25em;color: #696969;}#sk-container-id-2 label.sk-toggleable__label-arrow:hover:before {color: black;}#sk-container-id-2 div.sk-estimator:hover label.sk-toggleable__label-arrow:before {color: black;}#sk-container-id-2 div.sk-toggleable__content {max-height: 0;max-width: 0;overflow: hidden;text-align: left;background-color: #f0f8ff;}#sk-container-id-2 div.sk-toggleable__content pre {margin: 0.2em;color: black;border-radius: 0.25em;background-color: #f0f8ff;}#sk-container-id-2 input.sk-toggleable__control:checked~div.sk-toggleable__content {max-height: 200px;max-width: 100%;overflow: auto;}#sk-container-id-2 input.sk-toggleable__control:checked~label.sk-toggleable__label-arrow:before {content: \"▾\";}#sk-container-id-2 div.sk-estimator input.sk-toggleable__control:checked~label.sk-toggleable__label {background-color: #d4ebff;}#sk-container-id-2 div.sk-label input.sk-toggleable__control:checked~label.sk-toggleable__label {background-color: #d4ebff;}#sk-container-id-2 input.sk-hidden--visually {border: 0;clip: rect(1px 1px 1px 1px);clip: rect(1px, 1px, 1px, 1px);height: 1px;margin: -1px;overflow: hidden;padding: 0;position: absolute;width: 1px;}#sk-container-id-2 div.sk-estimator {font-family: monospace;background-color: #f0f8ff;border: 1px dotted black;border-radius: 0.25em;box-sizing: border-box;margin-bottom: 0.5em;}#sk-container-id-2 div.sk-estimator:hover {background-color: #d4ebff;}#sk-container-id-2 div.sk-parallel-item::after {content: \"\";width: 100%;border-bottom: 1px solid gray;flex-grow: 1;}#sk-container-id-2 div.sk-label:hover label.sk-toggleable__label {background-color: #d4ebff;}#sk-container-id-2 div.sk-serial::before {content: \"\";position: absolute;border-left: 1px solid gray;box-sizing: border-box;top: 0;bottom: 0;left: 50%;z-index: 0;}#sk-container-id-2 div.sk-serial {display: flex;flex-direction: column;align-items: center;background-color: white;padding-right: 0.2em;padding-left: 0.2em;position: relative;}#sk-container-id-2 div.sk-item {position: relative;z-index: 1;}#sk-container-id-2 div.sk-parallel {display: flex;align-items: stretch;justify-content: center;background-color: white;position: relative;}#sk-container-id-2 div.sk-item::before, #sk-container-id-2 div.sk-parallel-item::before {content: \"\";position: absolute;border-left: 1px solid gray;box-sizing: border-box;top: 0;bottom: 0;left: 50%;z-index: -1;}#sk-container-id-2 div.sk-parallel-item {display: flex;flex-direction: column;z-index: 1;position: relative;background-color: white;}#sk-container-id-2 div.sk-parallel-item:first-child::after {align-self: flex-end;width: 50%;}#sk-container-id-2 div.sk-parallel-item:last-child::after {align-self: flex-start;width: 50%;}#sk-container-id-2 div.sk-parallel-item:only-child::after {width: 0;}#sk-container-id-2 div.sk-dashed-wrapped {border: 1px dashed gray;margin: 0 0.4em 0.5em 0.4em;box-sizing: border-box;padding-bottom: 0.4em;background-color: white;}#sk-container-id-2 div.sk-label label {font-family: monospace;font-weight: bold;display: inline-block;line-height: 1.2em;}#sk-container-id-2 div.sk-label-container {text-align: center;}#sk-container-id-2 div.sk-container {/* jupyter's `normalize.less` sets `[hidden] { display: none; }` but bootstrap.min.css set `[hidden] { display: none !important; }` so we also need the `!important` here to be able to override the default hidden behavior on the sphinx rendered scikit-learn.org. See: https://github.com/scikit-learn/scikit-learn/issues/21755 */display: inline-block !important;position: relative;}#sk-container-id-2 div.sk-text-repr-fallback {display: none;}</style><div id=\"sk-container-id-2\" class=\"sk-top-container\"><div class=\"sk-text-repr-fallback\"><pre>Pipeline(steps=[(&#x27;columntransformer&#x27;,\n                 ColumnTransformer(transformers=[(&#x27;numerical&#x27;,\n                                                  Pipeline(steps=[(&#x27;scaler&#x27;,\n                                                                   StandardScaler())],\n                                                           verbose=True),\n                                                  [&#x27;prop_location_score1&#x27;,\n                                                   &#x27;prop_location_score2&#x27;,\n                                                   &#x27;prop_log_historical_price&#x27;,\n                                                   &#x27;price_usd&#x27;,\n                                                   &#x27;orig_destination_distance&#x27;,\n                                                   &#x27;prop_review_score&#x27;,\n                                                   &#x27;avg_bookings_usd&#x27;,\n                                                   &#x27;stdev_bookings_usd&#x27;]),\n                                                 (&#x27;categorical&#x27;,\n                                                  Pipeline(steps=[(...\n                                                   &#x27;prop_starrating&#x27;,\n                                                   &#x27;prop_brand_bool&#x27;,\n                                                   &#x27;count_clicks&#x27;,\n                                                   &#x27;count_bookings&#x27;, &#x27;year&#x27;,\n                                                   &#x27;month&#x27;, &#x27;weekofyear&#x27;,\n                                                   &#x27;time&#x27;, &#x27;site_id&#x27;,\n                                                   &#x27;visitor_location_country_id&#x27;,\n                                                   &#x27;srch_destination_id&#x27;,\n                                                   &#x27;srch_length_of_stay&#x27;,\n                                                   &#x27;srch_booking_window&#x27;,\n                                                   &#x27;srch_adults_count&#x27;,\n                                                   &#x27;srch_children_count&#x27;,\n                                                   &#x27;srch_room_count&#x27;,\n                                                   &#x27;srch_saturday_night_bool&#x27;,\n                                                   &#x27;random_bool&#x27;])],\n                                   verbose=True)),\n                (&#x27;sgdclassifier&#x27;, SGDClassifier())])</pre><b>In a Jupyter environment, please rerun this cell to show the HTML representation or trust the notebook. <br />On GitHub, the HTML representation is unable to render, please try loading this page with nbviewer.org.</b></div><div class=\"sk-container\" hidden><div class=\"sk-item sk-dashed-wrapped\"><div class=\"sk-label-container\"><div class=\"sk-label sk-toggleable\"><input class=\"sk-toggleable__control sk-hidden--visually\" id=\"sk-estimator-id-8\" type=\"checkbox\" ><label for=\"sk-estimator-id-8\" class=\"sk-toggleable__label sk-toggleable__label-arrow\">Pipeline</label><div class=\"sk-toggleable__content\"><pre>Pipeline(steps=[(&#x27;columntransformer&#x27;,\n                 ColumnTransformer(transformers=[(&#x27;numerical&#x27;,\n                                                  Pipeline(steps=[(&#x27;scaler&#x27;,\n                                                                   StandardScaler())],\n                                                           verbose=True),\n                                                  [&#x27;prop_location_score1&#x27;,\n                                                   &#x27;prop_location_score2&#x27;,\n                                                   &#x27;prop_log_historical_price&#x27;,\n                                                   &#x27;price_usd&#x27;,\n                                                   &#x27;orig_destination_distance&#x27;,\n                                                   &#x27;prop_review_score&#x27;,\n                                                   &#x27;avg_bookings_usd&#x27;,\n                                                   &#x27;stdev_bookings_usd&#x27;]),\n                                                 (&#x27;categorical&#x27;,\n                                                  Pipeline(steps=[(...\n                                                   &#x27;prop_starrating&#x27;,\n                                                   &#x27;prop_brand_bool&#x27;,\n                                                   &#x27;count_clicks&#x27;,\n                                                   &#x27;count_bookings&#x27;, &#x27;year&#x27;,\n                                                   &#x27;month&#x27;, &#x27;weekofyear&#x27;,\n                                                   &#x27;time&#x27;, &#x27;site_id&#x27;,\n                                                   &#x27;visitor_location_country_id&#x27;,\n                                                   &#x27;srch_destination_id&#x27;,\n                                                   &#x27;srch_length_of_stay&#x27;,\n                                                   &#x27;srch_booking_window&#x27;,\n                                                   &#x27;srch_adults_count&#x27;,\n                                                   &#x27;srch_children_count&#x27;,\n                                                   &#x27;srch_room_count&#x27;,\n                                                   &#x27;srch_saturday_night_bool&#x27;,\n                                                   &#x27;random_bool&#x27;])],\n                                   verbose=True)),\n                (&#x27;sgdclassifier&#x27;, SGDClassifier())])</pre></div></div></div><div class=\"sk-serial\"><div class=\"sk-item sk-dashed-wrapped\"><div class=\"sk-label-container\"><div class=\"sk-label sk-toggleable\"><input class=\"sk-toggleable__control sk-hidden--visually\" id=\"sk-estimator-id-9\" type=\"checkbox\" ><label for=\"sk-estimator-id-9\" class=\"sk-toggleable__label sk-toggleable__label-arrow\">columntransformer: ColumnTransformer</label><div class=\"sk-toggleable__content\"><pre>ColumnTransformer(transformers=[(&#x27;numerical&#x27;,\n                                 Pipeline(steps=[(&#x27;scaler&#x27;, StandardScaler())],\n                                          verbose=True),\n                                 [&#x27;prop_location_score1&#x27;,\n                                  &#x27;prop_location_score2&#x27;,\n                                  &#x27;prop_log_historical_price&#x27;, &#x27;price_usd&#x27;,\n                                  &#x27;orig_destination_distance&#x27;,\n                                  &#x27;prop_review_score&#x27;, &#x27;avg_bookings_usd&#x27;,\n                                  &#x27;stdev_bookings_usd&#x27;]),\n                                (&#x27;categorical&#x27;,\n                                 Pipeline(steps=[(&#x27;onehot&#x27;, OneHotEncoder())],\n                                          verbose=Tr...\n                                 [&#x27;position&#x27;, &#x27;prop_country_id&#x27;,\n                                  &#x27;prop_starrating&#x27;, &#x27;prop_brand_bool&#x27;,\n                                  &#x27;count_clicks&#x27;, &#x27;count_bookings&#x27;, &#x27;year&#x27;,\n                                  &#x27;month&#x27;, &#x27;weekofyear&#x27;, &#x27;time&#x27;, &#x27;site_id&#x27;,\n                                  &#x27;visitor_location_country_id&#x27;,\n                                  &#x27;srch_destination_id&#x27;, &#x27;srch_length_of_stay&#x27;,\n                                  &#x27;srch_booking_window&#x27;, &#x27;srch_adults_count&#x27;,\n                                  &#x27;srch_children_count&#x27;, &#x27;srch_room_count&#x27;,\n                                  &#x27;srch_saturday_night_bool&#x27;, &#x27;random_bool&#x27;])],\n                  verbose=True)</pre></div></div></div><div class=\"sk-parallel\"><div class=\"sk-parallel-item\"><div class=\"sk-item\"><div class=\"sk-label-container\"><div class=\"sk-label sk-toggleable\"><input class=\"sk-toggleable__control sk-hidden--visually\" id=\"sk-estimator-id-10\" type=\"checkbox\" ><label for=\"sk-estimator-id-10\" class=\"sk-toggleable__label sk-toggleable__label-arrow\">numerical</label><div class=\"sk-toggleable__content\"><pre>[&#x27;prop_location_score1&#x27;, &#x27;prop_location_score2&#x27;, &#x27;prop_log_historical_price&#x27;, &#x27;price_usd&#x27;, &#x27;orig_destination_distance&#x27;, &#x27;prop_review_score&#x27;, &#x27;avg_bookings_usd&#x27;, &#x27;stdev_bookings_usd&#x27;]</pre></div></div></div><div class=\"sk-serial\"><div class=\"sk-item\"><div class=\"sk-serial\"><div class=\"sk-item\"><div class=\"sk-estimator sk-toggleable\"><input class=\"sk-toggleable__control sk-hidden--visually\" id=\"sk-estimator-id-11\" type=\"checkbox\" ><label for=\"sk-estimator-id-11\" class=\"sk-toggleable__label sk-toggleable__label-arrow\">StandardScaler</label><div class=\"sk-toggleable__content\"><pre>StandardScaler()</pre></div></div></div></div></div></div></div></div><div class=\"sk-parallel-item\"><div class=\"sk-item\"><div class=\"sk-label-container\"><div class=\"sk-label sk-toggleable\"><input class=\"sk-toggleable__control sk-hidden--visually\" id=\"sk-estimator-id-12\" type=\"checkbox\" ><label for=\"sk-estimator-id-12\" class=\"sk-toggleable__label sk-toggleable__label-arrow\">categorical</label><div class=\"sk-toggleable__content\"><pre>[&#x27;position&#x27;, &#x27;prop_country_id&#x27;, &#x27;prop_starrating&#x27;, &#x27;prop_brand_bool&#x27;, &#x27;count_clicks&#x27;, &#x27;count_bookings&#x27;, &#x27;year&#x27;, &#x27;month&#x27;, &#x27;weekofyear&#x27;, &#x27;time&#x27;, &#x27;site_id&#x27;, &#x27;visitor_location_country_id&#x27;, &#x27;srch_destination_id&#x27;, &#x27;srch_length_of_stay&#x27;, &#x27;srch_booking_window&#x27;, &#x27;srch_adults_count&#x27;, &#x27;srch_children_count&#x27;, &#x27;srch_room_count&#x27;, &#x27;srch_saturday_night_bool&#x27;, &#x27;random_bool&#x27;]</pre></div></div></div><div class=\"sk-serial\"><div class=\"sk-item\"><div class=\"sk-serial\"><div class=\"sk-item\"><div class=\"sk-estimator sk-toggleable\"><input class=\"sk-toggleable__control sk-hidden--visually\" id=\"sk-estimator-id-13\" type=\"checkbox\" ><label for=\"sk-estimator-id-13\" class=\"sk-toggleable__label sk-toggleable__label-arrow\">OneHotEncoder</label><div class=\"sk-toggleable__content\"><pre>OneHotEncoder()</pre></div></div></div></div></div></div></div></div></div></div><div class=\"sk-item\"><div class=\"sk-estimator sk-toggleable\"><input class=\"sk-toggleable__control sk-hidden--visually\" id=\"sk-estimator-id-14\" type=\"checkbox\" ><label for=\"sk-estimator-id-14\" class=\"sk-toggleable__label sk-toggleable__label-arrow\">SGDClassifier</label><div class=\"sk-toggleable__content\"><pre>SGDClassifier()</pre></div></div></div></div></div></div></div>"
     },
     "execution_count": 4,
     "metadata": {},
     "output_type": "execute_result"
    }
   ],
   "source": [
    "from sklearn.linear_model import SGDClassifier\n",
    "\n",
    "model_linear = make_pipeline(preprocessor,  SGDClassifier())\n",
    "model_linear"
   ]
  },
  {
   "cell_type": "code",
   "execution_count": 5,
   "id": "c63858ceab953e50",
   "metadata": {
    "collapsed": false,
    "ExecuteTime": {
     "end_time": "2023-09-14T14:22:45.287430337Z",
     "start_time": "2023-09-14T14:22:39.069700163Z"
    }
   },
   "outputs": [
    {
     "name": "stdout",
     "output_type": "stream",
     "text": [
      "[Pipeline] ............ (step 1 of 1) Processing scaler, total=   0.1s\n",
      "[ColumnTransformer] ..... (1 of 2) Processing numerical, total=   0.1s\n",
      "[Pipeline] ............ (step 1 of 1) Processing onehot, total=   1.5s\n",
      "[ColumnTransformer] ... (2 of 2) Processing categorical, total=   1.5s\n",
      "Training done.\n"
     ]
    }
   ],
   "source": [
    "model_linear.fit(X, y)\n",
    "\n",
    "print(\"Training done.\")"
   ]
  },
  {
   "cell_type": "code",
   "execution_count": 6,
   "id": "57098bcb814bc88c",
   "metadata": {
    "collapsed": false,
    "ExecuteTime": {
     "end_time": "2023-09-14T14:22:45.386794834Z",
     "start_time": "2023-09-14T14:22:45.286981108Z"
    }
   },
   "outputs": [
    {
     "data": {
      "text/plain": "        prop_location_score1  prop_location_score2  prop_log_historical_price  \\\n0                       2.20                0.0472                       0.00   \n1                       2.56                0.0221                       0.00   \n2                       2.56                0.0863                       0.00   \n3                       2.20                0.0104                       0.00   \n4                       0.69                0.0138                       0.00   \n...                      ...                   ...                        ...   \n119995                  3.09                0.2478                       0.00   \n119996                  3.04                0.0000                       0.00   \n119997                  0.00                0.0872                       0.00   \n119998                  2.48                0.0817                       4.11   \n119999                  2.83                0.0026                       4.08   \n\n        price_usd  orig_destination_distance  prop_review_score  \\\n0            80.0                      86.59                3.5   \n1            75.0                      82.51                4.5   \n2            89.0                      91.15                4.0   \n3            40.0                      87.17                2.5   \n4            65.0                      85.21                4.0   \n...           ...                        ...                ...   \n119995       76.0                       0.00                4.5   \n119996       93.0                       0.00                0.0   \n119997      143.0                       0.00                4.5   \n119998       42.0                       0.00                3.5   \n119999       30.0                       0.00                2.0   \n\n        avg_bookings_usd  stdev_bookings_usd position prop_country_id  ...  \\\n0             172.605500           86.693494      '1'           '219'  ...   \n1             277.470000           77.690000      '1'           '219'  ...   \n2             124.185714           62.019917      '1'           '219'  ...   \n3             103.603333           83.719086      '1'           '219'  ...   \n4             113.760000           30.520000      '1'           '219'  ...   \n...                  ...                 ...      ...             ...  ...   \n119995        246.620000            0.000000      '0'           '219'  ...   \n119996        252.000000           84.000000      '0'           '219'  ...   \n119997        247.537561          142.940988      '1'           '219'  ...   \n119998        142.761429          103.587524      '0'           '219'  ...   \n119999        270.600000            0.000000      '1'           '219'  ...   \n\n        site_id  visitor_location_country_id  srch_destination_id  \\\n0           '5'                        '219'              '13233'   \n1           '5'                        '219'              '13233'   \n2           '5'                        '219'              '13233'   \n3           '5'                        '219'              '13233'   \n4           '5'                        '219'              '13233'   \n...         ...                          ...                  ...   \n119995      '5'                        '219'              '16823'   \n119996      '5'                        '219'              '16823'   \n119997      '5'                        '219'              '16823'   \n119998      '5'                        '219'              '16823'   \n119999      '5'                        '219'              '16823'   \n\n        srch_length_of_stay srch_booking_window srch_adults_count  \\\n0                         2                   0                 2   \n1                         2                   0                 2   \n2                         2                   0                 2   \n3                         2                   0                 2   \n4                         2                   0                 2   \n...                     ...                 ...               ...   \n119995                    1                  21                 2   \n119996                    1                  21                 2   \n119997                    1                  21                 2   \n119998                    2                  30                 2   \n119999                    2                  30                 2   \n\n       srch_children_count srch_room_count srch_saturday_night_bool  \\\n0                        0               1                        1   \n1                        0               1                        1   \n2                        0               1                        1   \n3                        0               1                        1   \n4                        0               1                        1   \n...                    ...             ...                      ...   \n119995                   0               1                        1   \n119996                   0               1                        1   \n119997                   0               1                        1   \n119998                   0               1                        1   \n119999                   0               1                        1   \n\n       random_bool  \n0                0  \n1                0  \n2                0  \n3                0  \n4                0  \n...            ...  \n119995           0  \n119996           0  \n119997           0  \n119998           1  \n119999           1  \n\n[120000 rows x 28 columns]",
      "text/html": "<div>\n<style scoped>\n    .dataframe tbody tr th:only-of-type {\n        vertical-align: middle;\n    }\n\n    .dataframe tbody tr th {\n        vertical-align: top;\n    }\n\n    .dataframe thead th {\n        text-align: right;\n    }\n</style>\n<table border=\"1\" class=\"dataframe\">\n  <thead>\n    <tr style=\"text-align: right;\">\n      <th></th>\n      <th>prop_location_score1</th>\n      <th>prop_location_score2</th>\n      <th>prop_log_historical_price</th>\n      <th>price_usd</th>\n      <th>orig_destination_distance</th>\n      <th>prop_review_score</th>\n      <th>avg_bookings_usd</th>\n      <th>stdev_bookings_usd</th>\n      <th>position</th>\n      <th>prop_country_id</th>\n      <th>...</th>\n      <th>site_id</th>\n      <th>visitor_location_country_id</th>\n      <th>srch_destination_id</th>\n      <th>srch_length_of_stay</th>\n      <th>srch_booking_window</th>\n      <th>srch_adults_count</th>\n      <th>srch_children_count</th>\n      <th>srch_room_count</th>\n      <th>srch_saturday_night_bool</th>\n      <th>random_bool</th>\n    </tr>\n  </thead>\n  <tbody>\n    <tr>\n      <th>0</th>\n      <td>2.20</td>\n      <td>0.0472</td>\n      <td>0.00</td>\n      <td>80.0</td>\n      <td>86.59</td>\n      <td>3.5</td>\n      <td>172.605500</td>\n      <td>86.693494</td>\n      <td>'1'</td>\n      <td>'219'</td>\n      <td>...</td>\n      <td>'5'</td>\n      <td>'219'</td>\n      <td>'13233'</td>\n      <td>2</td>\n      <td>0</td>\n      <td>2</td>\n      <td>0</td>\n      <td>1</td>\n      <td>1</td>\n      <td>0</td>\n    </tr>\n    <tr>\n      <th>1</th>\n      <td>2.56</td>\n      <td>0.0221</td>\n      <td>0.00</td>\n      <td>75.0</td>\n      <td>82.51</td>\n      <td>4.5</td>\n      <td>277.470000</td>\n      <td>77.690000</td>\n      <td>'1'</td>\n      <td>'219'</td>\n      <td>...</td>\n      <td>'5'</td>\n      <td>'219'</td>\n      <td>'13233'</td>\n      <td>2</td>\n      <td>0</td>\n      <td>2</td>\n      <td>0</td>\n      <td>1</td>\n      <td>1</td>\n      <td>0</td>\n    </tr>\n    <tr>\n      <th>2</th>\n      <td>2.56</td>\n      <td>0.0863</td>\n      <td>0.00</td>\n      <td>89.0</td>\n      <td>91.15</td>\n      <td>4.0</td>\n      <td>124.185714</td>\n      <td>62.019917</td>\n      <td>'1'</td>\n      <td>'219'</td>\n      <td>...</td>\n      <td>'5'</td>\n      <td>'219'</td>\n      <td>'13233'</td>\n      <td>2</td>\n      <td>0</td>\n      <td>2</td>\n      <td>0</td>\n      <td>1</td>\n      <td>1</td>\n      <td>0</td>\n    </tr>\n    <tr>\n      <th>3</th>\n      <td>2.20</td>\n      <td>0.0104</td>\n      <td>0.00</td>\n      <td>40.0</td>\n      <td>87.17</td>\n      <td>2.5</td>\n      <td>103.603333</td>\n      <td>83.719086</td>\n      <td>'1'</td>\n      <td>'219'</td>\n      <td>...</td>\n      <td>'5'</td>\n      <td>'219'</td>\n      <td>'13233'</td>\n      <td>2</td>\n      <td>0</td>\n      <td>2</td>\n      <td>0</td>\n      <td>1</td>\n      <td>1</td>\n      <td>0</td>\n    </tr>\n    <tr>\n      <th>4</th>\n      <td>0.69</td>\n      <td>0.0138</td>\n      <td>0.00</td>\n      <td>65.0</td>\n      <td>85.21</td>\n      <td>4.0</td>\n      <td>113.760000</td>\n      <td>30.520000</td>\n      <td>'1'</td>\n      <td>'219'</td>\n      <td>...</td>\n      <td>'5'</td>\n      <td>'219'</td>\n      <td>'13233'</td>\n      <td>2</td>\n      <td>0</td>\n      <td>2</td>\n      <td>0</td>\n      <td>1</td>\n      <td>1</td>\n      <td>0</td>\n    </tr>\n    <tr>\n      <th>...</th>\n      <td>...</td>\n      <td>...</td>\n      <td>...</td>\n      <td>...</td>\n      <td>...</td>\n      <td>...</td>\n      <td>...</td>\n      <td>...</td>\n      <td>...</td>\n      <td>...</td>\n      <td>...</td>\n      <td>...</td>\n      <td>...</td>\n      <td>...</td>\n      <td>...</td>\n      <td>...</td>\n      <td>...</td>\n      <td>...</td>\n      <td>...</td>\n      <td>...</td>\n      <td>...</td>\n    </tr>\n    <tr>\n      <th>119995</th>\n      <td>3.09</td>\n      <td>0.2478</td>\n      <td>0.00</td>\n      <td>76.0</td>\n      <td>0.00</td>\n      <td>4.5</td>\n      <td>246.620000</td>\n      <td>0.000000</td>\n      <td>'0'</td>\n      <td>'219'</td>\n      <td>...</td>\n      <td>'5'</td>\n      <td>'219'</td>\n      <td>'16823'</td>\n      <td>1</td>\n      <td>21</td>\n      <td>2</td>\n      <td>0</td>\n      <td>1</td>\n      <td>1</td>\n      <td>0</td>\n    </tr>\n    <tr>\n      <th>119996</th>\n      <td>3.04</td>\n      <td>0.0000</td>\n      <td>0.00</td>\n      <td>93.0</td>\n      <td>0.00</td>\n      <td>0.0</td>\n      <td>252.000000</td>\n      <td>84.000000</td>\n      <td>'0'</td>\n      <td>'219'</td>\n      <td>...</td>\n      <td>'5'</td>\n      <td>'219'</td>\n      <td>'16823'</td>\n      <td>1</td>\n      <td>21</td>\n      <td>2</td>\n      <td>0</td>\n      <td>1</td>\n      <td>1</td>\n      <td>0</td>\n    </tr>\n    <tr>\n      <th>119997</th>\n      <td>0.00</td>\n      <td>0.0872</td>\n      <td>0.00</td>\n      <td>143.0</td>\n      <td>0.00</td>\n      <td>4.5</td>\n      <td>247.537561</td>\n      <td>142.940988</td>\n      <td>'1'</td>\n      <td>'219'</td>\n      <td>...</td>\n      <td>'5'</td>\n      <td>'219'</td>\n      <td>'16823'</td>\n      <td>1</td>\n      <td>21</td>\n      <td>2</td>\n      <td>0</td>\n      <td>1</td>\n      <td>1</td>\n      <td>0</td>\n    </tr>\n    <tr>\n      <th>119998</th>\n      <td>2.48</td>\n      <td>0.0817</td>\n      <td>4.11</td>\n      <td>42.0</td>\n      <td>0.00</td>\n      <td>3.5</td>\n      <td>142.761429</td>\n      <td>103.587524</td>\n      <td>'0'</td>\n      <td>'219'</td>\n      <td>...</td>\n      <td>'5'</td>\n      <td>'219'</td>\n      <td>'16823'</td>\n      <td>2</td>\n      <td>30</td>\n      <td>2</td>\n      <td>0</td>\n      <td>1</td>\n      <td>1</td>\n      <td>1</td>\n    </tr>\n    <tr>\n      <th>119999</th>\n      <td>2.83</td>\n      <td>0.0026</td>\n      <td>4.08</td>\n      <td>30.0</td>\n      <td>0.00</td>\n      <td>2.0</td>\n      <td>270.600000</td>\n      <td>0.000000</td>\n      <td>'1'</td>\n      <td>'219'</td>\n      <td>...</td>\n      <td>'5'</td>\n      <td>'219'</td>\n      <td>'16823'</td>\n      <td>2</td>\n      <td>30</td>\n      <td>2</td>\n      <td>0</td>\n      <td>1</td>\n      <td>1</td>\n      <td>1</td>\n    </tr>\n  </tbody>\n</table>\n<p>120000 rows × 28 columns</p>\n</div>"
     },
     "execution_count": 6,
     "metadata": {},
     "output_type": "execute_result"
    }
   ],
   "source": [
    "from onnxoptimizer.query.pandas import model_udf\n",
    "\n",
    "predict_df = X[:120000]\n",
    "\n",
    "predict_df"
   ]
  },
  {
   "cell_type": "code",
   "execution_count": 7,
   "id": "9c16abf732937869",
   "metadata": {
    "collapsed": false,
    "ExecuteTime": {
     "end_time": "2023-09-14T14:22:45.655020077Z",
     "start_time": "2023-09-14T14:22:45.392257311Z"
    }
   },
   "outputs": [
    {
     "name": "stdout",
     "output_type": "stream",
     "text": [
      "result_lr=@mc_lr(@predict_df)\n",
      "result_linear=@mc_linear(@predict_df)\n"
     ]
    }
   ],
   "source": [
    "# declare model inference context function.\n",
    "model_schema = {}\n",
    "for col_name, col in predict_df.items():\n",
    "    model_schema[col_name] = col.dtype.type\n",
    "\n",
    "@model_udf(model_lr, schema=model_schema)\n",
    "def mc_lr(infer_batch):\n",
    "    return infer_batch.to_dict(orient=\"series\")\n",
    "\n",
    "@model_udf(model_linear, schema=model_schema)\n",
    "def mc_linear(infer_batch):\n",
    "    return infer_batch.to_dict(orient=\"series\")\n",
    "\n",
    "\n",
    "# inference query string.\n",
    "eval_str = f'''result_lr=@mc_lr(@predict_df)\n",
    "result_linear=@mc_linear(@predict_df)\n",
    "'''\n",
    "print(eval_str)"
   ]
  },
  {
   "cell_type": "code",
   "execution_count": 8,
   "id": "56c69e2d0fca0d29",
   "metadata": {
    "collapsed": false,
    "ExecuteTime": {
     "end_time": "2023-09-14T14:22:47.350480927Z",
     "start_time": "2023-09-14T14:22:45.439294187Z"
    }
   },
   "outputs": [
    {
     "data": {
      "text/plain": "        result_lr  result_linear\n0               0              0\n1               0              0\n2               0              0\n3               0              0\n4               0              0\n...           ...            ...\n119995          0              0\n119996          0              0\n119997          0              0\n119998          0              0\n119999          0              0\n\n[120000 rows x 2 columns]",
      "text/html": "<div>\n<style scoped>\n    .dataframe tbody tr th:only-of-type {\n        vertical-align: middle;\n    }\n\n    .dataframe tbody tr th {\n        vertical-align: top;\n    }\n\n    .dataframe thead th {\n        text-align: right;\n    }\n</style>\n<table border=\"1\" class=\"dataframe\">\n  <thead>\n    <tr style=\"text-align: right;\">\n      <th></th>\n      <th>result_lr</th>\n      <th>result_linear</th>\n    </tr>\n  </thead>\n  <tbody>\n    <tr>\n      <th>0</th>\n      <td>0</td>\n      <td>0</td>\n    </tr>\n    <tr>\n      <th>1</th>\n      <td>0</td>\n      <td>0</td>\n    </tr>\n    <tr>\n      <th>2</th>\n      <td>0</td>\n      <td>0</td>\n    </tr>\n    <tr>\n      <th>3</th>\n      <td>0</td>\n      <td>0</td>\n    </tr>\n    <tr>\n      <th>4</th>\n      <td>0</td>\n      <td>0</td>\n    </tr>\n    <tr>\n      <th>...</th>\n      <td>...</td>\n      <td>...</td>\n    </tr>\n    <tr>\n      <th>119995</th>\n      <td>0</td>\n      <td>0</td>\n    </tr>\n    <tr>\n      <th>119996</th>\n      <td>0</td>\n      <td>0</td>\n    </tr>\n    <tr>\n      <th>119997</th>\n      <td>0</td>\n      <td>0</td>\n    </tr>\n    <tr>\n      <th>119998</th>\n      <td>0</td>\n      <td>0</td>\n    </tr>\n    <tr>\n      <th>119999</th>\n      <td>0</td>\n      <td>0</td>\n    </tr>\n  </tbody>\n</table>\n<p>120000 rows × 2 columns</p>\n</div>"
     },
     "execution_count": 8,
     "metadata": {},
     "output_type": "execute_result"
    }
   ],
   "source": [
    "import time\n",
    "\n",
    "start = time.perf_counter()\n",
    "result_df = predict_df.predict_eval(eval_str)\n",
    "stop = time.perf_counter()\n",
    "time_opt = stop - start\n",
    "\n",
    "result_df[[\"result_lr\", \"result_linear\"]]"
   ]
  },
  {
   "cell_type": "code",
   "execution_count": 9,
   "id": "56add5579a69412e",
   "metadata": {
    "collapsed": false,
    "scrolled": true,
    "ExecuteTime": {
     "end_time": "2023-09-14T14:22:50.498272243Z",
     "start_time": "2023-09-14T14:22:47.349342849Z"
    }
   },
   "outputs": [
    {
     "data": {
      "text/plain": "        result_lr  result_linear\n0               0              0\n1               0              0\n2               0              0\n3               0              0\n4               0              0\n...           ...            ...\n119995          0              0\n119996          0              0\n119997          0              0\n119998          0              0\n119999          0              0\n\n[120000 rows x 2 columns]",
      "text/html": "<div>\n<style scoped>\n    .dataframe tbody tr th:only-of-type {\n        vertical-align: middle;\n    }\n\n    .dataframe tbody tr th {\n        vertical-align: top;\n    }\n\n    .dataframe thead th {\n        text-align: right;\n    }\n</style>\n<table border=\"1\" class=\"dataframe\">\n  <thead>\n    <tr style=\"text-align: right;\">\n      <th></th>\n      <th>result_lr</th>\n      <th>result_linear</th>\n    </tr>\n  </thead>\n  <tbody>\n    <tr>\n      <th>0</th>\n      <td>0</td>\n      <td>0</td>\n    </tr>\n    <tr>\n      <th>1</th>\n      <td>0</td>\n      <td>0</td>\n    </tr>\n    <tr>\n      <th>2</th>\n      <td>0</td>\n      <td>0</td>\n    </tr>\n    <tr>\n      <th>3</th>\n      <td>0</td>\n      <td>0</td>\n    </tr>\n    <tr>\n      <th>4</th>\n      <td>0</td>\n      <td>0</td>\n    </tr>\n    <tr>\n      <th>...</th>\n      <td>...</td>\n      <td>...</td>\n    </tr>\n    <tr>\n      <th>119995</th>\n      <td>0</td>\n      <td>0</td>\n    </tr>\n    <tr>\n      <th>119996</th>\n      <td>0</td>\n      <td>0</td>\n    </tr>\n    <tr>\n      <th>119997</th>\n      <td>0</td>\n      <td>0</td>\n    </tr>\n    <tr>\n      <th>119998</th>\n      <td>0</td>\n      <td>0</td>\n    </tr>\n    <tr>\n      <th>119999</th>\n      <td>0</td>\n      <td>0</td>\n    </tr>\n  </tbody>\n</table>\n<p>120000 rows × 2 columns</p>\n</div>"
     },
     "execution_count": 9,
     "metadata": {},
     "output_type": "execute_result"
    }
   ],
   "source": [
    "start = time.perf_counter()\n",
    "result_df2 = predict_df.predict_eval(eval_str, enable_opt=False)\n",
    "stop = time.perf_counter()\n",
    "\n",
    "time_un_opt = stop - start\n",
    "result_df2[[\"result_lr\", \"result_linear\"]]"
   ]
  },
  {
   "cell_type": "code",
   "execution_count": 10,
   "id": "867637f8372b663a",
   "metadata": {
    "collapsed": false,
    "ExecuteTime": {
     "end_time": "2023-09-14T14:22:50.503248165Z",
     "start_time": "2023-09-14T14:22:50.498632239Z"
    }
   },
   "outputs": [
    {
     "data": {
      "text/plain": "(1.900327659008326, 3.1426765380019788)"
     },
     "execution_count": 10,
     "metadata": {},
     "output_type": "execute_result"
    }
   ],
   "source": [
    "time_opt, time_un_opt"
   ]
  },
  {
   "cell_type": "code",
   "execution_count": 11,
   "id": "6cd071ae-e0fc-40a7-a17a-f2d5d0a2469e",
   "metadata": {
    "ExecuteTime": {
     "end_time": "2023-09-14T14:22:50.611925720Z",
     "start_time": "2023-09-14T14:22:50.505370666Z"
    }
   },
   "outputs": [
    {
     "data": {
      "text/plain": "<Figure size 640x480 with 1 Axes>",
      "image/png": "[encoded data removed]"
     },
     "metadata": {},
     "output_type": "display_data"
    }
   ],
   "source": [
    "y = [time_opt, time_un_opt]\n",
    "x = [1, 2]\n",
    "\n",
    "x_label=['opt','not opt']\n",
    "plt.xticks(x, x_label)\n",
    "plt.bar(x, y)\n",
    "plt.show()"
   ]
  }
 ],
 "metadata": {
  "kernelspec": {
   "display_name": "Python 3 (ipykernel)",
   "language": "python",
   "name": "python3"
  },
  "language_info": {
   "codemirror_mode": {
    "name": "ipython",
    "version": 3
   },
   "file_extension": ".py",
   "mimetype": "text/x-python",
   "name": "python",
   "nbconvert_exporter": "python",
   "pygments_lexer": "ipython3",
   "version": "3.10.13"
  }
 },
 "nbformat": 4,
 "nbformat_minor": 5
}
